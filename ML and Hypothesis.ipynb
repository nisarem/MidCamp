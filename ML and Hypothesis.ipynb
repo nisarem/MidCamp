{
 "cells": [
  {
   "cell_type": "code",
   "execution_count": 40,
   "id": "f007b513",
   "metadata": {},
   "outputs": [],
   "source": [
    "import pandas as pd\n",
    "import numpy as np\n",
    "\n",
    "import seaborn as sns\n",
    "import matplotlib.pyplot as plt\n",
    "\n",
    "from sklearn.model_selection import train_test_split\n",
    "from sklearn.preprocessing import MinMaxScaler\n",
    "from sklearn.preprocessing import OneHotEncoder\n",
    "from sklearn.linear_model import LinearRegression, SGDRegressor\n",
    "from sklearn.tree import DecisionTreeRegressor\n",
    "from sklearn.neighbors import KNeighborsRegressor\n",
    "from sklearn.neural_network import MLPRegressor\n",
    "from sklearn.ensemble import RandomForestRegressor, GradientBoostingRegressor\n",
    "from sklearn.metrics import mean_absolute_error, mean_squared_error, median_absolute_error, r2_score"
   ]
  },
  {
   "cell_type": "code",
   "execution_count": 41,
   "id": "072d1e1b",
   "metadata": {},
   "outputs": [
    {
     "data": {
      "text/html": [
       "<div>\n",
       "<style scoped>\n",
       "    .dataframe tbody tr th:only-of-type {\n",
       "        vertical-align: middle;\n",
       "    }\n",
       "\n",
       "    .dataframe tbody tr th {\n",
       "        vertical-align: top;\n",
       "    }\n",
       "\n",
       "    .dataframe thead th {\n",
       "        text-align: right;\n",
       "    }\n",
       "</style>\n",
       "<table border=\"1\" class=\"dataframe\">\n",
       "  <thead>\n",
       "    <tr style=\"text-align: right;\">\n",
       "      <th></th>\n",
       "      <th>ID</th>\n",
       "      <th>nom</th>\n",
       "      <th>coordinates</th>\n",
       "      <th>communes</th>\n",
       "      <th>capacity</th>\n",
       "      <th>availability_bike</th>\n",
       "      <th>unavailable_duration</th>\n",
       "      <th>unavailable_count</th>\n",
       "      <th>latitude</th>\n",
       "      <th>longitude</th>\n",
       "      <th>postcode</th>\n",
       "    </tr>\n",
       "  </thead>\n",
       "  <tbody>\n",
       "    <tr>\n",
       "      <th>0</th>\n",
       "      <td>10001</td>\n",
       "      <td>René Boulanger - Lancry</td>\n",
       "      <td>48.8685433, 2.3600032</td>\n",
       "      <td>Paris 10e Arrondissement</td>\n",
       "      <td>62</td>\n",
       "      <td>11.869707</td>\n",
       "      <td>0.0</td>\n",
       "      <td>0</td>\n",
       "      <td>48.868543</td>\n",
       "      <td>2.360003</td>\n",
       "      <td>75010</td>\n",
       "    </tr>\n",
       "    <tr>\n",
       "      <th>1</th>\n",
       "      <td>10003</td>\n",
       "      <td>Hauteville - Bonne Nouvelle</td>\n",
       "      <td>48.87077436024, 2.3496496368327</td>\n",
       "      <td>Paris 10e Arrondissement</td>\n",
       "      <td>17</td>\n",
       "      <td>7.632075</td>\n",
       "      <td>119.0</td>\n",
       "      <td>2</td>\n",
       "      <td>48.870774</td>\n",
       "      <td>2.349650</td>\n",
       "      <td>75010</td>\n",
       "    </tr>\n",
       "    <tr>\n",
       "      <th>2</th>\n",
       "      <td>10004</td>\n",
       "      <td>Metz - Faubourg Saint-Denis</td>\n",
       "      <td>48.870893, 2.353521</td>\n",
       "      <td>Paris 10e Arrondissement</td>\n",
       "      <td>48</td>\n",
       "      <td>17.184211</td>\n",
       "      <td>0.0</td>\n",
       "      <td>0</td>\n",
       "      <td>48.870893</td>\n",
       "      <td>2.353521</td>\n",
       "      <td>75010</td>\n",
       "    </tr>\n",
       "    <tr>\n",
       "      <th>3</th>\n",
       "      <td>10005</td>\n",
       "      <td>Petites Ecuries - Faubourg Poissonnière</td>\n",
       "      <td>48.87397217237368, 2.348388757504776</td>\n",
       "      <td>Paris 10e Arrondissement</td>\n",
       "      <td>17</td>\n",
       "      <td>7.911932</td>\n",
       "      <td>0.0</td>\n",
       "      <td>0</td>\n",
       "      <td>48.873972</td>\n",
       "      <td>2.348389</td>\n",
       "      <td>75010</td>\n",
       "    </tr>\n",
       "    <tr>\n",
       "      <th>4</th>\n",
       "      <td>10006</td>\n",
       "      <td>Petites Ecuries - Faubourg Saint-Denis</td>\n",
       "      <td>48.87287120589831, 2.3542150855064397</td>\n",
       "      <td>Paris 10e Arrondissement</td>\n",
       "      <td>28</td>\n",
       "      <td>13.638776</td>\n",
       "      <td>0.0</td>\n",
       "      <td>0</td>\n",
       "      <td>48.872871</td>\n",
       "      <td>2.354215</td>\n",
       "      <td>75010</td>\n",
       "    </tr>\n",
       "    <tr>\n",
       "      <th>...</th>\n",
       "      <td>...</td>\n",
       "      <td>...</td>\n",
       "      <td>...</td>\n",
       "      <td>...</td>\n",
       "      <td>...</td>\n",
       "      <td>...</td>\n",
       "      <td>...</td>\n",
       "      <td>...</td>\n",
       "      <td>...</td>\n",
       "      <td>...</td>\n",
       "      <td>...</td>\n",
       "    </tr>\n",
       "    <tr>\n",
       "      <th>1427</th>\n",
       "      <td>92004</td>\n",
       "      <td>Nanterre - Université</td>\n",
       "      <td>48.901365, 2.212693</td>\n",
       "      <td>Nanterre</td>\n",
       "      <td>20</td>\n",
       "      <td>16.389831</td>\n",
       "      <td>0.0</td>\n",
       "      <td>0</td>\n",
       "      <td>48.901365</td>\n",
       "      <td>2.212693</td>\n",
       "      <td>92000</td>\n",
       "    </tr>\n",
       "    <tr>\n",
       "      <th>1428</th>\n",
       "      <td>92005</td>\n",
       "      <td>Gare de Nanterre Ville</td>\n",
       "      <td>48.8950295, 2.1957932</td>\n",
       "      <td>Nanterre</td>\n",
       "      <td>43</td>\n",
       "      <td>21.022901</td>\n",
       "      <td>0.0</td>\n",
       "      <td>0</td>\n",
       "      <td>48.895029</td>\n",
       "      <td>2.195793</td>\n",
       "      <td>92000</td>\n",
       "    </tr>\n",
       "    <tr>\n",
       "      <th>1429</th>\n",
       "      <td>92006</td>\n",
       "      <td>Place Nelson Mandela</td>\n",
       "      <td>48.897874318180556, 2.2182820737361912</td>\n",
       "      <td>Nanterre</td>\n",
       "      <td>30</td>\n",
       "      <td>5.030612</td>\n",
       "      <td>121.0</td>\n",
       "      <td>1</td>\n",
       "      <td>48.897874</td>\n",
       "      <td>2.218282</td>\n",
       "      <td>92000</td>\n",
       "    </tr>\n",
       "    <tr>\n",
       "      <th>1430</th>\n",
       "      <td>92007</td>\n",
       "      <td>Pesaro - Préfecture</td>\n",
       "      <td>48.89577046284005, 2.223908342421055</td>\n",
       "      <td>Nanterre</td>\n",
       "      <td>22</td>\n",
       "      <td>6.164179</td>\n",
       "      <td>123.0</td>\n",
       "      <td>2</td>\n",
       "      <td>48.895770</td>\n",
       "      <td>2.223908</td>\n",
       "      <td>92000</td>\n",
       "    </tr>\n",
       "    <tr>\n",
       "      <th>1431</th>\n",
       "      <td>92008</td>\n",
       "      <td>Hôtel de Ville de Nanterre</td>\n",
       "      <td>48.892371898250424, 2.205548956990242</td>\n",
       "      <td>Nanterre</td>\n",
       "      <td>38</td>\n",
       "      <td>13.500000</td>\n",
       "      <td>0.0</td>\n",
       "      <td>0</td>\n",
       "      <td>48.892372</td>\n",
       "      <td>2.205549</td>\n",
       "      <td>92000</td>\n",
       "    </tr>\n",
       "  </tbody>\n",
       "</table>\n",
       "<p>1432 rows × 11 columns</p>\n",
       "</div>"
      ],
      "text/plain": [
       "         ID                                      nom  \\\n",
       "0     10001                  René Boulanger - Lancry   \n",
       "1     10003              Hauteville - Bonne Nouvelle   \n",
       "2     10004              Metz - Faubourg Saint-Denis   \n",
       "3     10005  Petites Ecuries - Faubourg Poissonnière   \n",
       "4     10006   Petites Ecuries - Faubourg Saint-Denis   \n",
       "...     ...                                      ...   \n",
       "1427  92004                    Nanterre - Université   \n",
       "1428  92005                   Gare de Nanterre Ville   \n",
       "1429  92006                     Place Nelson Mandela   \n",
       "1430  92007                      Pesaro - Préfecture   \n",
       "1431  92008               Hôtel de Ville de Nanterre   \n",
       "\n",
       "                                 coordinates                  communes  \\\n",
       "0                      48.8685433, 2.3600032  Paris 10e Arrondissement   \n",
       "1            48.87077436024, 2.3496496368327  Paris 10e Arrondissement   \n",
       "2                        48.870893, 2.353521  Paris 10e Arrondissement   \n",
       "3       48.87397217237368, 2.348388757504776  Paris 10e Arrondissement   \n",
       "4      48.87287120589831, 2.3542150855064397  Paris 10e Arrondissement   \n",
       "...                                      ...                       ...   \n",
       "1427                     48.901365, 2.212693                  Nanterre   \n",
       "1428                   48.8950295, 2.1957932                  Nanterre   \n",
       "1429  48.897874318180556, 2.2182820737361912                  Nanterre   \n",
       "1430    48.89577046284005, 2.223908342421055                  Nanterre   \n",
       "1431   48.892371898250424, 2.205548956990242                  Nanterre   \n",
       "\n",
       "      capacity  availability_bike  unavailable_duration  unavailable_count  \\\n",
       "0           62          11.869707                   0.0                  0   \n",
       "1           17           7.632075                 119.0                  2   \n",
       "2           48          17.184211                   0.0                  0   \n",
       "3           17           7.911932                   0.0                  0   \n",
       "4           28          13.638776                   0.0                  0   \n",
       "...        ...                ...                   ...                ...   \n",
       "1427        20          16.389831                   0.0                  0   \n",
       "1428        43          21.022901                   0.0                  0   \n",
       "1429        30           5.030612                 121.0                  1   \n",
       "1430        22           6.164179                 123.0                  2   \n",
       "1431        38          13.500000                   0.0                  0   \n",
       "\n",
       "       latitude  longitude  postcode  \n",
       "0     48.868543   2.360003     75010  \n",
       "1     48.870774   2.349650     75010  \n",
       "2     48.870893   2.353521     75010  \n",
       "3     48.873972   2.348389     75010  \n",
       "4     48.872871   2.354215     75010  \n",
       "...         ...        ...       ...  \n",
       "1427  48.901365   2.212693     92000  \n",
       "1428  48.895029   2.195793     92000  \n",
       "1429  48.897874   2.218282     92000  \n",
       "1430  48.895770   2.223908     92000  \n",
       "1431  48.892372   2.205549     92000  \n",
       "\n",
       "[1432 rows x 11 columns]"
      ]
     },
     "execution_count": 41,
     "metadata": {},
     "output_type": "execute_result"
    }
   ],
   "source": [
    "data = pd.read_csv('availability.csv')\n",
    "data"
   ]
  },
  {
   "cell_type": "markdown",
   "id": "2830907a",
   "metadata": {},
   "source": [
    "# EDA"
   ]
  },
  {
   "cell_type": "code",
   "execution_count": 42,
   "id": "42f79dae",
   "metadata": {},
   "outputs": [
    {
     "data": {
      "text/plain": [
       "(1432, 11)"
      ]
     },
     "execution_count": 42,
     "metadata": {},
     "output_type": "execute_result"
    }
   ],
   "source": [
    "data.shape"
   ]
  },
  {
   "cell_type": "code",
   "execution_count": 43,
   "id": "0099426f",
   "metadata": {},
   "outputs": [
    {
     "data": {
      "text/plain": [
       "ID                      1432\n",
       "nom                     1430\n",
       "coordinates             1432\n",
       "communes                  81\n",
       "capacity                  61\n",
       "availability_bike       1423\n",
       "unavailable_duration     200\n",
       "unavailable_count         12\n",
       "latitude                1432\n",
       "longitude               1430\n",
       "postcode                  85\n",
       "dtype: int64"
      ]
     },
     "execution_count": 43,
     "metadata": {},
     "output_type": "execute_result"
    }
   ],
   "source": [
    "data.nunique()"
   ]
  },
  {
   "cell_type": "code",
   "execution_count": 44,
   "id": "a701de40",
   "metadata": {},
   "outputs": [
    {
     "data": {
      "text/plain": [
       "ID                      False\n",
       "nom                     False\n",
       "coordinates             False\n",
       "communes                False\n",
       "capacity                False\n",
       "availability_bike       False\n",
       "unavailable_duration    False\n",
       "unavailable_count       False\n",
       "latitude                False\n",
       "longitude               False\n",
       "postcode                False\n",
       "dtype: bool"
      ]
     },
     "execution_count": 44,
     "metadata": {},
     "output_type": "execute_result"
    }
   ],
   "source": [
    "data.isna().any()"
   ]
  },
  {
   "cell_type": "code",
   "execution_count": 45,
   "id": "be4b2b10",
   "metadata": {},
   "outputs": [
    {
     "name": "stdout",
     "output_type": "stream",
     "text": [
      "<class 'pandas.core.frame.DataFrame'>\n",
      "RangeIndex: 1432 entries, 0 to 1431\n",
      "Data columns (total 11 columns):\n",
      " #   Column                Non-Null Count  Dtype  \n",
      "---  ------                --------------  -----  \n",
      " 0   ID                    1432 non-null   int64  \n",
      " 1   nom                   1432 non-null   object \n",
      " 2   coordinates           1432 non-null   object \n",
      " 3   communes              1432 non-null   object \n",
      " 4   capacity              1432 non-null   int64  \n",
      " 5   availability_bike     1432 non-null   float64\n",
      " 6   unavailable_duration  1432 non-null   float64\n",
      " 7   unavailable_count     1432 non-null   int64  \n",
      " 8   latitude              1432 non-null   float64\n",
      " 9   longitude             1432 non-null   float64\n",
      " 10  postcode              1432 non-null   int64  \n",
      "dtypes: float64(4), int64(4), object(3)\n",
      "memory usage: 123.2+ KB\n"
     ]
    }
   ],
   "source": [
    "data.info()"
   ]
  },
  {
   "cell_type": "code",
   "execution_count": 46,
   "id": "ef5c4c30",
   "metadata": {},
   "outputs": [
    {
     "data": {
      "text/html": [
       "<div>\n",
       "<style scoped>\n",
       "    .dataframe tbody tr th:only-of-type {\n",
       "        vertical-align: middle;\n",
       "    }\n",
       "\n",
       "    .dataframe tbody tr th {\n",
       "        vertical-align: top;\n",
       "    }\n",
       "\n",
       "    .dataframe thead th {\n",
       "        text-align: right;\n",
       "    }\n",
       "</style>\n",
       "<table border=\"1\" class=\"dataframe\">\n",
       "  <thead>\n",
       "    <tr style=\"text-align: right;\">\n",
       "      <th></th>\n",
       "      <th>count</th>\n",
       "      <th>mean</th>\n",
       "      <th>std</th>\n",
       "      <th>min</th>\n",
       "      <th>25%</th>\n",
       "      <th>50%</th>\n",
       "      <th>75%</th>\n",
       "      <th>max</th>\n",
       "    </tr>\n",
       "  </thead>\n",
       "  <tbody>\n",
       "    <tr>\n",
       "      <th>ID</th>\n",
       "      <td>1432.0</td>\n",
       "      <td>18599.208799</td>\n",
       "      <td>12160.851346</td>\n",
       "      <td>1001.000000</td>\n",
       "      <td>11025.750000</td>\n",
       "      <td>16109.000000</td>\n",
       "      <td>21953.250000</td>\n",
       "      <td>92008.000000</td>\n",
       "    </tr>\n",
       "    <tr>\n",
       "      <th>capacity</th>\n",
       "      <td>1432.0</td>\n",
       "      <td>31.525140</td>\n",
       "      <td>11.575206</td>\n",
       "      <td>11.000000</td>\n",
       "      <td>23.000000</td>\n",
       "      <td>30.000000</td>\n",
       "      <td>37.000000</td>\n",
       "      <td>74.000000</td>\n",
       "    </tr>\n",
       "    <tr>\n",
       "      <th>availability_bike</th>\n",
       "      <td>1432.0</td>\n",
       "      <td>12.474619</td>\n",
       "      <td>8.966498</td>\n",
       "      <td>0.000000</td>\n",
       "      <td>6.174597</td>\n",
       "      <td>10.350714</td>\n",
       "      <td>16.228485</td>\n",
       "      <td>74.805907</td>\n",
       "    </tr>\n",
       "    <tr>\n",
       "      <th>unavailable_duration</th>\n",
       "      <td>1432.0</td>\n",
       "      <td>96.476257</td>\n",
       "      <td>204.825503</td>\n",
       "      <td>0.000000</td>\n",
       "      <td>0.000000</td>\n",
       "      <td>0.000000</td>\n",
       "      <td>117.000000</td>\n",
       "      <td>2047.000000</td>\n",
       "    </tr>\n",
       "    <tr>\n",
       "      <th>unavailable_count</th>\n",
       "      <td>1432.0</td>\n",
       "      <td>1.006983</td>\n",
       "      <td>1.784303</td>\n",
       "      <td>0.000000</td>\n",
       "      <td>0.000000</td>\n",
       "      <td>0.000000</td>\n",
       "      <td>1.000000</td>\n",
       "      <td>11.000000</td>\n",
       "    </tr>\n",
       "    <tr>\n",
       "      <th>latitude</th>\n",
       "      <td>1432.0</td>\n",
       "      <td>48.858174</td>\n",
       "      <td>0.030696</td>\n",
       "      <td>48.764615</td>\n",
       "      <td>48.837592</td>\n",
       "      <td>48.858277</td>\n",
       "      <td>48.879337</td>\n",
       "      <td>48.951432</td>\n",
       "    </tr>\n",
       "    <tr>\n",
       "      <th>longitude</th>\n",
       "      <td>1432.0</td>\n",
       "      <td>2.340935</td>\n",
       "      <td>0.056778</td>\n",
       "      <td>2.165597</td>\n",
       "      <td>2.302564</td>\n",
       "      <td>2.343218</td>\n",
       "      <td>2.378635</td>\n",
       "      <td>2.538242</td>\n",
       "    </tr>\n",
       "    <tr>\n",
       "      <th>postcode</th>\n",
       "      <td>1432.0</td>\n",
       "      <td>80712.949721</td>\n",
       "      <td>8407.079125</td>\n",
       "      <td>75001.000000</td>\n",
       "      <td>75011.000000</td>\n",
       "      <td>75017.000000</td>\n",
       "      <td>92150.000000</td>\n",
       "      <td>95100.000000</td>\n",
       "    </tr>\n",
       "  </tbody>\n",
       "</table>\n",
       "</div>"
      ],
      "text/plain": [
       "                       count          mean           std           min  \\\n",
       "ID                    1432.0  18599.208799  12160.851346   1001.000000   \n",
       "capacity              1432.0     31.525140     11.575206     11.000000   \n",
       "availability_bike     1432.0     12.474619      8.966498      0.000000   \n",
       "unavailable_duration  1432.0     96.476257    204.825503      0.000000   \n",
       "unavailable_count     1432.0      1.006983      1.784303      0.000000   \n",
       "latitude              1432.0     48.858174      0.030696     48.764615   \n",
       "longitude             1432.0      2.340935      0.056778      2.165597   \n",
       "postcode              1432.0  80712.949721   8407.079125  75001.000000   \n",
       "\n",
       "                               25%           50%           75%           max  \n",
       "ID                    11025.750000  16109.000000  21953.250000  92008.000000  \n",
       "capacity                 23.000000     30.000000     37.000000     74.000000  \n",
       "availability_bike         6.174597     10.350714     16.228485     74.805907  \n",
       "unavailable_duration      0.000000      0.000000    117.000000   2047.000000  \n",
       "unavailable_count         0.000000      0.000000      1.000000     11.000000  \n",
       "latitude                 48.837592     48.858277     48.879337     48.951432  \n",
       "longitude                 2.302564      2.343218      2.378635      2.538242  \n",
       "postcode              75011.000000  75017.000000  92150.000000  95100.000000  "
      ]
     },
     "execution_count": 46,
     "metadata": {},
     "output_type": "execute_result"
    }
   ],
   "source": [
    "data.describe().T"
   ]
  },
  {
   "cell_type": "markdown",
   "id": "a59a583b",
   "metadata": {},
   "source": [
    "# Cleaning Numerical Data"
   ]
  },
  {
   "cell_type": "code",
   "execution_count": 47,
   "id": "576bd85a",
   "metadata": {},
   "outputs": [],
   "source": [
    "numerical = data.select_dtypes(include=np.number)\n",
    "numerical = numerical.drop(['ID','postcode','latitude','longitude'],axis=1)"
   ]
  },
  {
   "cell_type": "code",
   "execution_count": 48,
   "id": "667b690f",
   "metadata": {},
   "outputs": [],
   "source": [
    "#for col in numerical.columns:\n",
    "#    sns.displot(numerical[col], kde=True)\n",
    "#    plt.show()"
   ]
  },
  {
   "cell_type": "code",
   "execution_count": 49,
   "id": "e09debd5",
   "metadata": {
    "scrolled": false
   },
   "outputs": [
    {
     "name": "stderr",
     "output_type": "stream",
     "text": [
      "/Users/iremnisa.kilinc/anaconda3/lib/python3.11/site-packages/seaborn/axisgrid.py:118: UserWarning: The figure layout has changed to tight\n",
      "  self._figure.tight_layout(*args, **kwargs)\n"
     ]
    },
    {
     "data": {
      "image/png": "[encoded data removed]",
      "text/plain": [
       "<Figure size 500x500 with 1 Axes>"
      ]
     },
     "metadata": {},
     "output_type": "display_data"
    },
    {
     "name": "stderr",
     "output_type": "stream",
     "text": [
      "/Users/iremnisa.kilinc/anaconda3/lib/python3.11/site-packages/seaborn/axisgrid.py:118: UserWarning: The figure layout has changed to tight\n",
      "  self._figure.tight_layout(*args, **kwargs)\n"
     ]
    },
    {
     "data": {
      "image/png": "[encoded data removed]",
      "text/plain": [
       "<Figure size 500x500 with 1 Axes>"
      ]
     },
     "metadata": {},
     "output_type": "display_data"
    },
    {
     "name": "stderr",
     "output_type": "stream",
     "text": [
      "/Users/iremnisa.kilinc/anaconda3/lib/python3.11/site-packages/seaborn/axisgrid.py:118: UserWarning: The figure layout has changed to tight\n",
      "  self._figure.tight_layout(*args, **kwargs)\n"
     ]
    },
    {
     "data": {
      "image/png": "[encoded data removed]",
      "text/plain": [
       "<Figure size 500x500 with 1 Axes>"
      ]
     },
     "metadata": {},
     "output_type": "display_data"
    },
    {
     "name": "stderr",
     "output_type": "stream",
     "text": [
      "/Users/iremnisa.kilinc/anaconda3/lib/python3.11/site-packages/seaborn/axisgrid.py:118: UserWarning: The figure layout has changed to tight\n",
      "  self._figure.tight_layout(*args, **kwargs)\n"
     ]
    },
    {
     "data": {
      "image/png": "[encoded data removed]",
      "text/plain": [
       "<Figure size 500x500 with 1 Axes>"
      ]
     },
     "metadata": {},
     "output_type": "display_data"
    }
   ],
   "source": [
    "def plot_num(Dataframe):\n",
    "    for column in Dataframe.columns:\n",
    "        sns.displot(x=Dataframe[column],kde=True)\n",
    "        plt.show()\n",
    "    return None\n",
    "   \n",
    "\n",
    "plot_num(numerical)"
   ]
  },
  {
   "cell_type": "code",
   "execution_count": 50,
   "id": "85a5e3a0",
   "metadata": {
    "scrolled": false
   },
   "outputs": [
    {
     "data": {
      "image/png": "[encoded data removed]",
      "text/plain": [
       "<Figure size 640x480 with 1 Axes>"
      ]
     },
     "metadata": {},
     "output_type": "display_data"
    },
    {
     "data": {
      "image/png": "[encoded data removed]",
      "text/plain": [
       "<Figure size 640x480 with 1 Axes>"
      ]
     },
     "metadata": {},
     "output_type": "display_data"
    },
    {
     "data": {
      "image/png": "[encoded data removed]",
      "text/plain": [
       "<Figure size 640x480 with 1 Axes>"
      ]
     },
     "metadata": {},
     "output_type": "display_data"
    },
    {
     "data": {
      "image/png": "[encoded data removed]",
      "text/plain": [
       "<Figure size 640x480 with 1 Axes>"
      ]
     },
     "metadata": {},
     "output_type": "display_data"
    }
   ],
   "source": [
    "for column in numerical.columns:\n",
    "        sns.boxplot(x=numerical[column])\n",
    "        plt.show()\n",
    "\n",
    " #not too many outliers  "
   ]
  },
  {
   "cell_type": "code",
   "execution_count": 51,
   "id": "70155f8a",
   "metadata": {},
   "outputs": [
    {
     "data": {
      "image/png": "[encoded data removed]",
      "text/plain": [
       "<Figure size 1000x800 with 2 Axes>"
      ]
     },
     "metadata": {},
     "output_type": "display_data"
    },
    {
     "data": {
      "text/html": [
       "<div>\n",
       "<style scoped>\n",
       "    .dataframe tbody tr th:only-of-type {\n",
       "        vertical-align: middle;\n",
       "    }\n",
       "\n",
       "    .dataframe tbody tr th {\n",
       "        vertical-align: top;\n",
       "    }\n",
       "\n",
       "    .dataframe thead th {\n",
       "        text-align: right;\n",
       "    }\n",
       "</style>\n",
       "<table border=\"1\" class=\"dataframe\">\n",
       "  <thead>\n",
       "    <tr style=\"text-align: right;\">\n",
       "      <th></th>\n",
       "      <th>capacity</th>\n",
       "      <th>availability_bike</th>\n",
       "      <th>unavailable_duration</th>\n",
       "      <th>unavailable_count</th>\n",
       "    </tr>\n",
       "  </thead>\n",
       "  <tbody>\n",
       "    <tr>\n",
       "      <th>capacity</th>\n",
       "      <td>1.000000</td>\n",
       "      <td>0.551503</td>\n",
       "      <td>-0.194495</td>\n",
       "      <td>-0.207923</td>\n",
       "    </tr>\n",
       "    <tr>\n",
       "      <th>availability_bike</th>\n",
       "      <td>0.551503</td>\n",
       "      <td>1.000000</td>\n",
       "      <td>-0.340867</td>\n",
       "      <td>-0.415879</td>\n",
       "    </tr>\n",
       "    <tr>\n",
       "      <th>unavailable_duration</th>\n",
       "      <td>-0.194495</td>\n",
       "      <td>-0.340867</td>\n",
       "      <td>1.000000</td>\n",
       "      <td>0.780939</td>\n",
       "    </tr>\n",
       "    <tr>\n",
       "      <th>unavailable_count</th>\n",
       "      <td>-0.207923</td>\n",
       "      <td>-0.415879</td>\n",
       "      <td>0.780939</td>\n",
       "      <td>1.000000</td>\n",
       "    </tr>\n",
       "  </tbody>\n",
       "</table>\n",
       "</div>"
      ],
      "text/plain": [
       "                      capacity  availability_bike  unavailable_duration  \\\n",
       "capacity              1.000000           0.551503             -0.194495   \n",
       "availability_bike     0.551503           1.000000             -0.340867   \n",
       "unavailable_duration -0.194495          -0.340867              1.000000   \n",
       "unavailable_count    -0.207923          -0.415879              0.780939   \n",
       "\n",
       "                      unavailable_count  \n",
       "capacity                      -0.207923  \n",
       "availability_bike             -0.415879  \n",
       "unavailable_duration           0.780939  \n",
       "unavailable_count              1.000000  "
      ]
     },
     "execution_count": 51,
     "metadata": {},
     "output_type": "execute_result"
    }
   ],
   "source": [
    "corr_matrix=numerical.corr() \n",
    "fig, ax = plt.subplots(figsize=(10, 8))\n",
    "ax = sns.heatmap(corr_matrix, annot=True)\n",
    "plt.show()\n",
    "\n",
    "corr_matrix"
   ]
  },
  {
   "cell_type": "code",
   "execution_count": 52,
   "id": "517aa9c6",
   "metadata": {},
   "outputs": [
    {
     "data": {
      "text/html": [
       "<div>\n",
       "<style scoped>\n",
       "    .dataframe tbody tr th:only-of-type {\n",
       "        vertical-align: middle;\n",
       "    }\n",
       "\n",
       "    .dataframe tbody tr th {\n",
       "        vertical-align: top;\n",
       "    }\n",
       "\n",
       "    .dataframe thead th {\n",
       "        text-align: right;\n",
       "    }\n",
       "</style>\n",
       "<table border=\"1\" class=\"dataframe\">\n",
       "  <thead>\n",
       "    <tr style=\"text-align: right;\">\n",
       "      <th></th>\n",
       "      <th>count</th>\n",
       "      <th>mean</th>\n",
       "      <th>std</th>\n",
       "      <th>min</th>\n",
       "      <th>25%</th>\n",
       "      <th>50%</th>\n",
       "      <th>75%</th>\n",
       "      <th>max</th>\n",
       "    </tr>\n",
       "  </thead>\n",
       "  <tbody>\n",
       "    <tr>\n",
       "      <th>capacity</th>\n",
       "      <td>1432.0</td>\n",
       "      <td>31.525140</td>\n",
       "      <td>11.575206</td>\n",
       "      <td>11.0</td>\n",
       "      <td>23.000000</td>\n",
       "      <td>30.000000</td>\n",
       "      <td>37.000000</td>\n",
       "      <td>74.000000</td>\n",
       "    </tr>\n",
       "    <tr>\n",
       "      <th>availability_bike</th>\n",
       "      <td>1432.0</td>\n",
       "      <td>12.474619</td>\n",
       "      <td>8.966498</td>\n",
       "      <td>0.0</td>\n",
       "      <td>6.174597</td>\n",
       "      <td>10.350714</td>\n",
       "      <td>16.228485</td>\n",
       "      <td>74.805907</td>\n",
       "    </tr>\n",
       "    <tr>\n",
       "      <th>unavailable_duration</th>\n",
       "      <td>1432.0</td>\n",
       "      <td>96.476257</td>\n",
       "      <td>204.825503</td>\n",
       "      <td>0.0</td>\n",
       "      <td>0.000000</td>\n",
       "      <td>0.000000</td>\n",
       "      <td>117.000000</td>\n",
       "      <td>2047.000000</td>\n",
       "    </tr>\n",
       "    <tr>\n",
       "      <th>unavailable_count</th>\n",
       "      <td>1432.0</td>\n",
       "      <td>1.006983</td>\n",
       "      <td>1.784303</td>\n",
       "      <td>0.0</td>\n",
       "      <td>0.000000</td>\n",
       "      <td>0.000000</td>\n",
       "      <td>1.000000</td>\n",
       "      <td>11.000000</td>\n",
       "    </tr>\n",
       "  </tbody>\n",
       "</table>\n",
       "</div>"
      ],
      "text/plain": [
       "                       count       mean         std   min        25%  \\\n",
       "capacity              1432.0  31.525140   11.575206  11.0  23.000000   \n",
       "availability_bike     1432.0  12.474619    8.966498   0.0   6.174597   \n",
       "unavailable_duration  1432.0  96.476257  204.825503   0.0   0.000000   \n",
       "unavailable_count     1432.0   1.006983    1.784303   0.0   0.000000   \n",
       "\n",
       "                            50%         75%          max  \n",
       "capacity              30.000000   37.000000    74.000000  \n",
       "availability_bike     10.350714   16.228485    74.805907  \n",
       "unavailable_duration   0.000000  117.000000  2047.000000  \n",
       "unavailable_count      0.000000    1.000000    11.000000  "
      ]
     },
     "execution_count": 52,
     "metadata": {},
     "output_type": "execute_result"
    }
   ],
   "source": [
    "numerical.describe().T"
   ]
  },
  {
   "cell_type": "code",
   "execution_count": 53,
   "id": "f9985f1e",
   "metadata": {},
   "outputs": [
    {
     "name": "stdout",
     "output_type": "stream",
     "text": [
      "61 :   capacity\n",
      "1423 :   availability_bike\n",
      "200 :   unavailable_duration\n",
      "12 :   unavailable_count\n"
     ]
    }
   ],
   "source": [
    "def value_count(df):\n",
    "    for columns in df:\n",
    "            print (len(numerical[columns].value_counts()),':  ',columns)\n",
    "    return\n",
    "\n",
    "value_count(numerical)\n",
    "        "
   ]
  },
  {
   "cell_type": "code",
   "execution_count": 54,
   "id": "cb6d4aa4",
   "metadata": {},
   "outputs": [],
   "source": [
    "def outliers(column, threshold = 3):\n",
    "   \n",
    "    data = column[abs(column.apply(lambda x: (x - column.mean()) / column.var() ** (1/2))) > threshold]\n",
    "    \n",
    "    return data"
   ]
  },
  {
   "cell_type": "code",
   "execution_count": 55,
   "id": "1549e8a6",
   "metadata": {},
   "outputs": [
    {
     "data": {
      "text/plain": [
       "27"
      ]
     },
     "execution_count": 55,
     "metadata": {},
     "output_type": "execute_result"
    }
   ],
   "source": [
    "duration_outliers = outliers(numerical[\"unavailable_duration\"])\n",
    "len(duration_outliers)"
   ]
  },
  {
   "cell_type": "code",
   "execution_count": 56,
   "id": "0401a6f5",
   "metadata": {},
   "outputs": [
    {
     "data": {
      "text/plain": [
       "26"
      ]
     },
     "execution_count": 56,
     "metadata": {},
     "output_type": "execute_result"
    }
   ],
   "source": [
    "count_outliers = outliers(numerical[\"unavailable_count\"])\n",
    "len(count_outliers)"
   ]
  },
  {
   "cell_type": "code",
   "execution_count": 57,
   "id": "cea19cf8",
   "metadata": {},
   "outputs": [],
   "source": [
    "def discrete_continuous(df):\n",
    "    discrete_lst = []\n",
    "    continuous_lst = []\n",
    "    for col in df.columns:\n",
    "        if len(df[col].unique()) < (df.shape[0] * 0.02):\n",
    "            discrete_lst.append(col)\n",
    "        else:\n",
    "            continuous_lst.append(col)\n",
    "    return (discrete_lst, continuous_lst)\n",
    "   \n",
    "        "
   ]
  },
  {
   "cell_type": "code",
   "execution_count": 58,
   "id": "c4ae6030",
   "metadata": {},
   "outputs": [],
   "source": [
    "discrete_lst, continuous_lst = discrete_continuous(numerical)"
   ]
  },
  {
   "cell_type": "code",
   "execution_count": 59,
   "id": "d72af987",
   "metadata": {},
   "outputs": [
    {
     "name": "stdout",
     "output_type": "stream",
     "text": [
      "Discrete List:   ['unavailable_count']\n",
      "Continuous List:    ['capacity', 'availability_bike', 'unavailable_duration']\n"
     ]
    }
   ],
   "source": [
    "print('Discrete List:  ',discrete_lst)\n",
    "print('Continuous List:   ',continuous_lst)"
   ]
  },
  {
   "cell_type": "code",
   "execution_count": 60,
   "id": "d6dfc004",
   "metadata": {},
   "outputs": [],
   "source": [
    "num_discrete_df = numerical[['unavailable_count','capacity']]\n",
    "num_continuous_df = numerical[['availability_bike', 'unavailable_duration']]"
   ]
  },
  {
   "cell_type": "code",
   "execution_count": null,
   "id": "0960f140",
   "metadata": {},
   "outputs": [],
   "source": []
  },
  {
   "cell_type": "markdown",
   "id": "078081b4",
   "metadata": {},
   "source": [
    "# Cleaning Categorical Data"
   ]
  },
  {
   "cell_type": "code",
   "execution_count": 61,
   "id": "c72fea28",
   "metadata": {},
   "outputs": [],
   "source": [
    "categorical=data.select_dtypes(include=object)"
   ]
  },
  {
   "cell_type": "code",
   "execution_count": 62,
   "id": "a521ad21",
   "metadata": {},
   "outputs": [
    {
     "data": {
      "text/plain": [
       "nom            1430\n",
       "coordinates    1432\n",
       "communes         81\n",
       "dtype: int64"
      ]
     },
     "execution_count": 62,
     "metadata": {},
     "output_type": "execute_result"
    }
   ],
   "source": [
    "categorical.nunique()"
   ]
  },
  {
   "cell_type": "code",
   "execution_count": 63,
   "id": "f825c5b7",
   "metadata": {},
   "outputs": [],
   "source": [
    "categorical = categorical.drop(['nom','coordinates'],axis=1)"
   ]
  },
  {
   "cell_type": "code",
   "execution_count": 64,
   "id": "bc359b00",
   "metadata": {
    "scrolled": false
   },
   "outputs": [
    {
     "data": {
      "image/png": "[encoded data removed]",
      "text/plain": [
       "<Figure size 1500x800 with 1 Axes>"
      ]
     },
     "metadata": {},
     "output_type": "display_data"
    }
   ],
   "source": [
    "ordered_categories = categorical['communes'].sort_values().unique()\n",
    "plt.figure(figsize=(15, 8))\n",
    "sns.countplot(x=categorical['communes'], order=ordered_categories)\n",
    "plt.xticks(rotation=90) \n",
    "plt.show()"
   ]
  },
  {
   "cell_type": "code",
   "execution_count": 65,
   "id": "8ed49cfc",
   "metadata": {},
   "outputs": [
    {
     "data": {
      "text/html": [
       "<div>\n",
       "<style scoped>\n",
       "    .dataframe tbody tr th:only-of-type {\n",
       "        vertical-align: middle;\n",
       "    }\n",
       "\n",
       "    .dataframe tbody tr th {\n",
       "        vertical-align: top;\n",
       "    }\n",
       "\n",
       "    .dataframe thead th {\n",
       "        text-align: right;\n",
       "    }\n",
       "</style>\n",
       "<table border=\"1\" class=\"dataframe\">\n",
       "  <thead>\n",
       "    <tr style=\"text-align: right;\">\n",
       "      <th></th>\n",
       "      <th>capacity</th>\n",
       "      <th>availability_bike</th>\n",
       "      <th>unavailable_duration</th>\n",
       "      <th>unavailable_count</th>\n",
       "      <th>communes</th>\n",
       "    </tr>\n",
       "  </thead>\n",
       "  <tbody>\n",
       "    <tr>\n",
       "      <th>0</th>\n",
       "      <td>62</td>\n",
       "      <td>11.869707</td>\n",
       "      <td>0.0</td>\n",
       "      <td>0</td>\n",
       "      <td>Paris 10e Arrondissement</td>\n",
       "    </tr>\n",
       "    <tr>\n",
       "      <th>1</th>\n",
       "      <td>17</td>\n",
       "      <td>7.632075</td>\n",
       "      <td>119.0</td>\n",
       "      <td>2</td>\n",
       "      <td>Paris 10e Arrondissement</td>\n",
       "    </tr>\n",
       "    <tr>\n",
       "      <th>2</th>\n",
       "      <td>48</td>\n",
       "      <td>17.184211</td>\n",
       "      <td>0.0</td>\n",
       "      <td>0</td>\n",
       "      <td>Paris 10e Arrondissement</td>\n",
       "    </tr>\n",
       "    <tr>\n",
       "      <th>3</th>\n",
       "      <td>17</td>\n",
       "      <td>7.911932</td>\n",
       "      <td>0.0</td>\n",
       "      <td>0</td>\n",
       "      <td>Paris 10e Arrondissement</td>\n",
       "    </tr>\n",
       "    <tr>\n",
       "      <th>4</th>\n",
       "      <td>28</td>\n",
       "      <td>13.638776</td>\n",
       "      <td>0.0</td>\n",
       "      <td>0</td>\n",
       "      <td>Paris 10e Arrondissement</td>\n",
       "    </tr>\n",
       "    <tr>\n",
       "      <th>...</th>\n",
       "      <td>...</td>\n",
       "      <td>...</td>\n",
       "      <td>...</td>\n",
       "      <td>...</td>\n",
       "      <td>...</td>\n",
       "    </tr>\n",
       "    <tr>\n",
       "      <th>1427</th>\n",
       "      <td>20</td>\n",
       "      <td>16.389831</td>\n",
       "      <td>0.0</td>\n",
       "      <td>0</td>\n",
       "      <td>Nanterre</td>\n",
       "    </tr>\n",
       "    <tr>\n",
       "      <th>1428</th>\n",
       "      <td>43</td>\n",
       "      <td>21.022901</td>\n",
       "      <td>0.0</td>\n",
       "      <td>0</td>\n",
       "      <td>Nanterre</td>\n",
       "    </tr>\n",
       "    <tr>\n",
       "      <th>1429</th>\n",
       "      <td>30</td>\n",
       "      <td>5.030612</td>\n",
       "      <td>121.0</td>\n",
       "      <td>1</td>\n",
       "      <td>Nanterre</td>\n",
       "    </tr>\n",
       "    <tr>\n",
       "      <th>1430</th>\n",
       "      <td>22</td>\n",
       "      <td>6.164179</td>\n",
       "      <td>123.0</td>\n",
       "      <td>2</td>\n",
       "      <td>Nanterre</td>\n",
       "    </tr>\n",
       "    <tr>\n",
       "      <th>1431</th>\n",
       "      <td>38</td>\n",
       "      <td>13.500000</td>\n",
       "      <td>0.0</td>\n",
       "      <td>0</td>\n",
       "      <td>Nanterre</td>\n",
       "    </tr>\n",
       "  </tbody>\n",
       "</table>\n",
       "<p>1432 rows × 5 columns</p>\n",
       "</div>"
      ],
      "text/plain": [
       "      capacity  availability_bike  unavailable_duration  unavailable_count  \\\n",
       "0           62          11.869707                   0.0                  0   \n",
       "1           17           7.632075                 119.0                  2   \n",
       "2           48          17.184211                   0.0                  0   \n",
       "3           17           7.911932                   0.0                  0   \n",
       "4           28          13.638776                   0.0                  0   \n",
       "...        ...                ...                   ...                ...   \n",
       "1427        20          16.389831                   0.0                  0   \n",
       "1428        43          21.022901                   0.0                  0   \n",
       "1429        30           5.030612                 121.0                  1   \n",
       "1430        22           6.164179                 123.0                  2   \n",
       "1431        38          13.500000                   0.0                  0   \n",
       "\n",
       "                      communes  \n",
       "0     Paris 10e Arrondissement  \n",
       "1     Paris 10e Arrondissement  \n",
       "2     Paris 10e Arrondissement  \n",
       "3     Paris 10e Arrondissement  \n",
       "4     Paris 10e Arrondissement  \n",
       "...                        ...  \n",
       "1427                  Nanterre  \n",
       "1428                  Nanterre  \n",
       "1429                  Nanterre  \n",
       "1430                  Nanterre  \n",
       "1431                  Nanterre  \n",
       "\n",
       "[1432 rows x 5 columns]"
      ]
     },
     "execution_count": 65,
     "metadata": {},
     "output_type": "execute_result"
    }
   ],
   "source": [
    "data = pd.concat([numerical, categorical], axis=1)\n",
    "data"
   ]
  },
  {
   "cell_type": "code",
   "execution_count": 175,
   "id": "f04611d7",
   "metadata": {},
   "outputs": [],
   "source": [
    "X = data.drop('unavailable_duration',axis=1)\n",
    "y = data['unavailable_duration']"
   ]
  },
  {
   "cell_type": "code",
   "execution_count": 176,
   "id": "672e133e",
   "metadata": {},
   "outputs": [],
   "source": [
    "test_size = 0.2"
   ]
  },
  {
   "cell_type": "code",
   "execution_count": 177,
   "id": "42a30969",
   "metadata": {},
   "outputs": [],
   "source": [
    "X_train, X_test, y_train, y_test = train_test_split(X, y, test_size=test_size)"
   ]
  },
  {
   "cell_type": "code",
   "execution_count": 178,
   "id": "d65650d5",
   "metadata": {},
   "outputs": [],
   "source": [
    "X_train_cat = X_train.select_dtypes(include='object')\n",
    "X_train_num = X_train.select_dtypes(include=np.number)\n",
    "X_test_cat = X_test.select_dtypes(include='object')\n",
    "X_test_num = X_test.select_dtypes(include=np.number)"
   ]
  },
  {
   "cell_type": "code",
   "execution_count": 179,
   "id": "c272bd2c",
   "metadata": {},
   "outputs": [],
   "source": [
    "scaler = MinMaxScaler()\n",
    "scaler.fit(X_train_num)\n",
    "X_train_num_scaled = scaler.transform(X_train_num)\n",
    "X_test_num_scaled = scaler.transform(X_test_num)\n",
    "X_train_num_scaled = pd.DataFrame(X_train_num_scaled, columns=X_train_num.columns)\n",
    "X_test_num_scaled = pd.DataFrame(X_test_num_scaled, columns=X_test_num.columns)\n"
   ]
  },
  {
   "cell_type": "code",
   "execution_count": 180,
   "id": "439f99a0",
   "metadata": {},
   "outputs": [
    {
     "name": "stderr",
     "output_type": "stream",
     "text": [
      "/Users/iremnisa.kilinc/anaconda3/lib/python3.11/site-packages/sklearn/preprocessing/_encoders.py:241: UserWarning: Found unknown categories in columns [0] during transform. These unknown categories will be encoded as all zeros\n",
      "  warnings.warn(\n"
     ]
    }
   ],
   "source": [
    "onehot = OneHotEncoder(handle_unknown='ignore', drop='first')\n",
    "onehot.fit(X_train_cat)\n",
    "\n",
    "encoded_train = onehot.transform(X_train_cat)\n",
    "encoded_test = onehot.transform(X_test_cat)\n",
    "\n",
    "X_train_cat_encoded = pd.DataFrame(encoded_train.toarray())\n",
    "X_test_cat_encoded = pd.DataFrame(encoded_test.toarray())"
   ]
  },
  {
   "cell_type": "code",
   "execution_count": 181,
   "id": "e5862471",
   "metadata": {},
   "outputs": [],
   "source": [
    "X_train = pd.concat((X_train_cat_encoded, X_train_num_scaled),axis=1)\n",
    "X_test = pd.concat((X_test_cat_encoded, X_test_num_scaled),axis=1)"
   ]
  },
  {
   "cell_type": "code",
   "execution_count": 182,
   "id": "c40c70d9",
   "metadata": {},
   "outputs": [],
   "source": [
    "X_train.columns = X_train.columns.astype(str)\n",
    "X_test.columns = X_test.columns.astype(str)"
   ]
  },
  {
   "cell_type": "code",
   "execution_count": 183,
   "id": "618baff6",
   "metadata": {},
   "outputs": [],
   "source": [
    "models = [LinearRegression(), KNeighborsRegressor(), MLPRegressor(),\n",
    "          DecisionTreeRegressor(), RandomForestRegressor(), GradientBoostingRegressor()]"
   ]
  },
  {
   "cell_type": "code",
   "execution_count": 184,
   "id": "ca1cf7e0",
   "metadata": {},
   "outputs": [
    {
     "name": "stderr",
     "output_type": "stream",
     "text": [
      "/Users/iremnisa.kilinc/anaconda3/lib/python3.11/site-packages/sklearn/neural_network/_multilayer_perceptron.py:691: ConvergenceWarning: Stochastic Optimizer: Maximum iterations (200) reached and the optimization hasn't converged yet.\n",
      "  warnings.warn(\n"
     ]
    },
    {
     "name": "stdout",
     "output_type": "stream",
     "text": [
      "LinearRegression:\n",
      "Train R-squared: 0.6709\n",
      "Test R-squared: 0.4546\n",
      "Train Adjusted R-squared: 0.6455\n",
      "Test Adjusted R-squared: 0.2354\n",
      "Train MAE: 50.7326\n",
      "Test MAE: 52.1091\n",
      "Train MSE: 14013.9920\n",
      "Test MSE: 21390.7721\n",
      "Train RMSE: 118.3807\n",
      "Test RMSE: 146.2558\n",
      "\n",
      "KNeighborsRegressor:\n",
      "Train R-squared: 0.6326\n",
      "Test R-squared: 0.3426\n",
      "Train Adjusted R-squared: 0.6042\n",
      "Test Adjusted R-squared: 0.0783\n",
      "Train MAE: 48.3981\n",
      "Test MAE: 55.3387\n",
      "Train MSE: 15645.3838\n",
      "Test MSE: 25783.6174\n",
      "Train RMSE: 125.0815\n",
      "Test RMSE: 160.5728\n",
      "\n",
      "MLPRegressor:\n",
      "Train R-squared: 0.3479\n",
      "Test R-squared: 0.2343\n",
      "Train Adjusted R-squared: 0.2975\n",
      "Test Adjusted R-squared: -0.0735\n",
      "Train MAE: 88.0421\n",
      "Test MAE: 87.9115\n",
      "Train MSE: 27766.9722\n",
      "Test MSE: 30031.0939\n",
      "Train RMSE: 166.6342\n",
      "Test RMSE: 173.2948\n",
      "\n",
      "DecisionTreeRegressor:\n",
      "Train R-squared: 1.0000\n",
      "Test R-squared: 0.1051\n",
      "Train Adjusted R-squared: 1.0000\n",
      "Test Adjusted R-squared: -0.2546\n",
      "Train MAE: 0.0000\n",
      "Test MAE: 48.6516\n",
      "Train MSE: 0.0000\n",
      "Test MSE: 35098.5331\n",
      "Train RMSE: 0.0000\n",
      "Test RMSE: 187.3460\n",
      "\n",
      "RandomForestRegressor:\n",
      "Train R-squared: 0.9438\n",
      "Test R-squared: 0.4365\n",
      "Train Adjusted R-squared: 0.9395\n",
      "Test Adjusted R-squared: 0.2101\n",
      "Train MAE: 17.3114\n",
      "Test MAE: 40.3849\n",
      "Train MSE: 2391.1807\n",
      "Test MSE: 22098.6381\n",
      "Train RMSE: 48.8997\n",
      "Test RMSE: 148.6561\n",
      "\n",
      "GradientBoostingRegressor:\n",
      "Train R-squared: 0.8665\n",
      "Test R-squared: 0.4222\n",
      "Train Adjusted R-squared: 0.8562\n",
      "Test Adjusted R-squared: 0.1900\n",
      "Train MAE: 30.8874\n",
      "Test MAE: 46.4344\n",
      "Train MSE: 5683.2789\n",
      "Test MSE: 22659.4814\n",
      "Train RMSE: 75.3875\n",
      "Test RMSE: 150.5307\n",
      "\n"
     ]
    }
   ],
   "source": [
    "def train_and_test(models, X_train, y_train, X_test, y_test):\n",
    "    results = {}\n",
    "    \n",
    "    for model in models:\n",
    "        model.fit(X_train, y_train)\n",
    "        train_predictions = model.predict(X_train)\n",
    "        test_predictions = model.predict(X_test)\n",
    "\n",
    "        train_mae = mean_absolute_error(y_train, train_predictions)\n",
    "        train_mse = mean_squared_error(y_train, train_predictions)\n",
    "        train_rmse = np.sqrt(train_mse)\n",
    "        train_r2 = r2_score(y_train, train_predictions)\n",
    "        n_train, p_train = X_train.shape\n",
    "        adj_train_r2 = 1 - (1 - train_r2) * (n_train - 1) / (n_train - p_train - 1)\n",
    "        \n",
    "        test_mae = mean_absolute_error(y_test, test_predictions)\n",
    "        test_mse = mean_squared_error(y_test, test_predictions)\n",
    "        test_rmse = np.sqrt(test_mse)\n",
    "        test_r2 = r2_score(y_test, test_predictions)\n",
    "        n_test, p_test = X_test.shape\n",
    "        adj_test_r2 = 1 - (1 - test_r2) * (n_test - 1) / (n_test - p_test - 1)\n",
    "        \n",
    "        results[type(model).__name__] = {\n",
    "            'Train R-squared': train_r2,\n",
    "            'Test R-squared': test_r2,\n",
    "            \n",
    "            'Train Adjusted R-squared': adj_train_r2,\n",
    "            'Test Adjusted R-squared': adj_test_r2,\n",
    "    \n",
    "            'Train MAE': train_mae,\n",
    "            'Test MAE': test_mae,\n",
    "            \n",
    "            'Train MSE': train_mse,\n",
    "            'Test MSE': test_mse,\n",
    "            \n",
    "            'Train RMSE': train_rmse,\n",
    "            'Test RMSE': test_rmse,\n",
    "        }\n",
    "    \n",
    "    return results\n",
    "\n",
    "models = [LinearRegression(), KNeighborsRegressor(),MLPRegressor(),\n",
    "    DecisionTreeRegressor(), RandomForestRegressor(),GradientBoostingRegressor()]\n",
    "results = train_and_test(models, X_train, y_train, X_test, y_test)\n",
    "\n",
    "for model, metrics in results.items():\n",
    "    print(f\"{model}:\")\n",
    "    for metric, value in metrics.items():\n",
    "        print(f\"{metric}: {value:.4f}\")\n",
    "    print()\n"
   ]
  },
  {
   "cell_type": "markdown",
   "id": "8b448cfd",
   "metadata": {},
   "source": [
    "In determining the most suitable model, three key metrics are considered:\n",
    "\n",
    "- R-squared (R²): Evaluates the explanatory power of the model by measuring the proportion of variance in the dependent variable accounted for by the independent variables.\n",
    "\n",
    "- Adjusted R-squared (Adjusted R²): Refines R-squared by considering model complexity, penalizing the inclusion of unnecessary predictors, thus offering a more accurate assessment, particularly during model comparisons.\n",
    "\n",
    "- Mean Absolute Error (MAE): Quantifies prediction accuracy by measuring the average magnitude of errors between predicted and actual values, providing robustness against outliers. In scenarios where predicting unavailable duration is critical, regardless of direction, minimizing MAE is imperative.\n",
    "\n",
    "Considering R-squared, Adjusted R-squared, and MAE:\n",
    "\n",
    "1. Linear Regression demonstrates consistent R-squared and Adjusted R-squared values across both training and testing datasets, accompanied by a lower MAE on the test set.\n",
    "\n",
    "2. Random Forest Regressor exhibits strong performance, characterized by relatively high R-squared and Adjusted R-squared scores on both training and testing sets, coupled with a lower MAE compared to Linear Regression.\n",
    "\n",
    "3. Gradient Boosting Regressor also showcases robust performance, featuring elevated R-squared and Adjusted R-squared metrics across both training and testing datasets, alongside a moderate MAE on the test set."
   ]
  },
  {
   "cell_type": "code",
   "execution_count": 185,
   "id": "4896ceca",
   "metadata": {},
   "outputs": [
    {
     "data": {
      "text/html": [
       "<div>\n",
       "<style scoped>\n",
       "    .dataframe tbody tr th:only-of-type {\n",
       "        vertical-align: middle;\n",
       "    }\n",
       "\n",
       "    .dataframe tbody tr th {\n",
       "        vertical-align: top;\n",
       "    }\n",
       "\n",
       "    .dataframe thead th {\n",
       "        text-align: right;\n",
       "    }\n",
       "</style>\n",
       "<table border=\"1\" class=\"dataframe\">\n",
       "  <thead>\n",
       "    <tr style=\"text-align: right;\">\n",
       "      <th></th>\n",
       "      <th>Train R-squared</th>\n",
       "      <th>Test R-squared</th>\n",
       "      <th>Train Adjusted R-squared</th>\n",
       "      <th>Test Adjusted R-squared</th>\n",
       "      <th>Train MAE</th>\n",
       "      <th>Test MAE</th>\n",
       "      <th>Train MSE</th>\n",
       "      <th>Test MSE</th>\n",
       "      <th>Train RMSE</th>\n",
       "      <th>Test RMSE</th>\n",
       "    </tr>\n",
       "  </thead>\n",
       "  <tbody>\n",
       "    <tr>\n",
       "      <th>LinearRegression</th>\n",
       "      <td>0.630507</td>\n",
       "      <td>0.664389</td>\n",
       "      <td>0.605036</td>\n",
       "      <td>0.200126</td>\n",
       "      <td>51.768720</td>\n",
       "      <td>49.426761</td>\n",
       "      <td>15472.658824</td>\n",
       "      <td>14213.812445</td>\n",
       "      <td>124.389143</td>\n",
       "      <td>119.221695</td>\n",
       "    </tr>\n",
       "    <tr>\n",
       "      <th>RandomForestRegressor</th>\n",
       "      <td>0.931918</td>\n",
       "      <td>0.596482</td>\n",
       "      <td>0.927225</td>\n",
       "      <td>0.038283</td>\n",
       "      <td>16.725085</td>\n",
       "      <td>39.738333</td>\n",
       "      <td>2850.959494</td>\n",
       "      <td>17089.781819</td>\n",
       "      <td>53.394377</td>\n",
       "      <td>130.727892</td>\n",
       "    </tr>\n",
       "    <tr>\n",
       "      <th>GradientBoostingRegressor</th>\n",
       "      <td>0.849613</td>\n",
       "      <td>0.647455</td>\n",
       "      <td>0.839246</td>\n",
       "      <td>0.159767</td>\n",
       "      <td>31.957792</td>\n",
       "      <td>44.104587</td>\n",
       "      <td>6297.531256</td>\n",
       "      <td>14930.999300</td>\n",
       "      <td>79.356986</td>\n",
       "      <td>122.192468</td>\n",
       "    </tr>\n",
       "  </tbody>\n",
       "</table>\n",
       "</div>"
      ],
      "text/plain": [
       "                           Train R-squared  Test R-squared  \\\n",
       "LinearRegression                  0.630507        0.664389   \n",
       "RandomForestRegressor             0.931918        0.596482   \n",
       "GradientBoostingRegressor         0.849613        0.647455   \n",
       "\n",
       "                           Train Adjusted R-squared  Test Adjusted R-squared  \\\n",
       "LinearRegression                           0.605036                 0.200126   \n",
       "RandomForestRegressor                      0.927225                 0.038283   \n",
       "GradientBoostingRegressor                  0.839246                 0.159767   \n",
       "\n",
       "                           Train MAE   Test MAE     Train MSE      Test MSE  \\\n",
       "LinearRegression           51.768720  49.426761  15472.658824  14213.812445   \n",
       "RandomForestRegressor      16.725085  39.738333   2850.959494  17089.781819   \n",
       "GradientBoostingRegressor  31.957792  44.104587   6297.531256  14930.999300   \n",
       "\n",
       "                           Train RMSE   Test RMSE  \n",
       "LinearRegression           124.389143  119.221695  \n",
       "RandomForestRegressor       53.394377  130.727892  \n",
       "GradientBoostingRegressor   79.356986  122.192468  "
      ]
     },
     "execution_count": 185,
     "metadata": {},
     "output_type": "execute_result"
    }
   ],
   "source": [
    "metrics_df = pd.DataFrame.from_dict(fitted_results, orient='index')\n",
    "metrics_df = metrics_df.drop(['KNeighborsRegressor','MLPRegressor','DecisionTreeRegressor'])\n",
    "metrics_df"
   ]
  },
  {
   "cell_type": "markdown",
   "id": "6a389ea5",
   "metadata": {},
   "source": [
    "## Hypothesis Testing"
   ]
  },
  {
   "cell_type": "code",
   "execution_count": 195,
   "id": "324318a7",
   "metadata": {},
   "outputs": [
    {
     "data": {
      "text/html": [
       "<div>\n",
       "<style scoped>\n",
       "    .dataframe tbody tr th:only-of-type {\n",
       "        vertical-align: middle;\n",
       "    }\n",
       "\n",
       "    .dataframe tbody tr th {\n",
       "        vertical-align: top;\n",
       "    }\n",
       "\n",
       "    .dataframe thead th {\n",
       "        text-align: right;\n",
       "    }\n",
       "</style>\n",
       "<table border=\"1\" class=\"dataframe\">\n",
       "  <thead>\n",
       "    <tr style=\"text-align: right;\">\n",
       "      <th></th>\n",
       "      <th>capacity</th>\n",
       "      <th>availability_bike</th>\n",
       "      <th>unavailable_duration</th>\n",
       "      <th>unavailable_count</th>\n",
       "      <th>communes</th>\n",
       "    </tr>\n",
       "  </thead>\n",
       "  <tbody>\n",
       "    <tr>\n",
       "      <th>0</th>\n",
       "      <td>62</td>\n",
       "      <td>11.869707</td>\n",
       "      <td>0.0</td>\n",
       "      <td>0</td>\n",
       "      <td>Paris 10e Arrondissement</td>\n",
       "    </tr>\n",
       "    <tr>\n",
       "      <th>1</th>\n",
       "      <td>17</td>\n",
       "      <td>7.632075</td>\n",
       "      <td>119.0</td>\n",
       "      <td>2</td>\n",
       "      <td>Paris 10e Arrondissement</td>\n",
       "    </tr>\n",
       "    <tr>\n",
       "      <th>2</th>\n",
       "      <td>48</td>\n",
       "      <td>17.184211</td>\n",
       "      <td>0.0</td>\n",
       "      <td>0</td>\n",
       "      <td>Paris 10e Arrondissement</td>\n",
       "    </tr>\n",
       "    <tr>\n",
       "      <th>3</th>\n",
       "      <td>17</td>\n",
       "      <td>7.911932</td>\n",
       "      <td>0.0</td>\n",
       "      <td>0</td>\n",
       "      <td>Paris 10e Arrondissement</td>\n",
       "    </tr>\n",
       "    <tr>\n",
       "      <th>4</th>\n",
       "      <td>28</td>\n",
       "      <td>13.638776</td>\n",
       "      <td>0.0</td>\n",
       "      <td>0</td>\n",
       "      <td>Paris 10e Arrondissement</td>\n",
       "    </tr>\n",
       "    <tr>\n",
       "      <th>...</th>\n",
       "      <td>...</td>\n",
       "      <td>...</td>\n",
       "      <td>...</td>\n",
       "      <td>...</td>\n",
       "      <td>...</td>\n",
       "    </tr>\n",
       "    <tr>\n",
       "      <th>1427</th>\n",
       "      <td>20</td>\n",
       "      <td>16.389831</td>\n",
       "      <td>0.0</td>\n",
       "      <td>0</td>\n",
       "      <td>Nanterre</td>\n",
       "    </tr>\n",
       "    <tr>\n",
       "      <th>1428</th>\n",
       "      <td>43</td>\n",
       "      <td>21.022901</td>\n",
       "      <td>0.0</td>\n",
       "      <td>0</td>\n",
       "      <td>Nanterre</td>\n",
       "    </tr>\n",
       "    <tr>\n",
       "      <th>1429</th>\n",
       "      <td>30</td>\n",
       "      <td>5.030612</td>\n",
       "      <td>121.0</td>\n",
       "      <td>1</td>\n",
       "      <td>Nanterre</td>\n",
       "    </tr>\n",
       "    <tr>\n",
       "      <th>1430</th>\n",
       "      <td>22</td>\n",
       "      <td>6.164179</td>\n",
       "      <td>123.0</td>\n",
       "      <td>2</td>\n",
       "      <td>Nanterre</td>\n",
       "    </tr>\n",
       "    <tr>\n",
       "      <th>1431</th>\n",
       "      <td>38</td>\n",
       "      <td>13.500000</td>\n",
       "      <td>0.0</td>\n",
       "      <td>0</td>\n",
       "      <td>Nanterre</td>\n",
       "    </tr>\n",
       "  </tbody>\n",
       "</table>\n",
       "<p>1432 rows × 5 columns</p>\n",
       "</div>"
      ],
      "text/plain": [
       "      capacity  availability_bike  unavailable_duration  unavailable_count  \\\n",
       "0           62          11.869707                   0.0                  0   \n",
       "1           17           7.632075                 119.0                  2   \n",
       "2           48          17.184211                   0.0                  0   \n",
       "3           17           7.911932                   0.0                  0   \n",
       "4           28          13.638776                   0.0                  0   \n",
       "...        ...                ...                   ...                ...   \n",
       "1427        20          16.389831                   0.0                  0   \n",
       "1428        43          21.022901                   0.0                  0   \n",
       "1429        30           5.030612                 121.0                  1   \n",
       "1430        22           6.164179                 123.0                  2   \n",
       "1431        38          13.500000                   0.0                  0   \n",
       "\n",
       "                      communes  \n",
       "0     Paris 10e Arrondissement  \n",
       "1     Paris 10e Arrondissement  \n",
       "2     Paris 10e Arrondissement  \n",
       "3     Paris 10e Arrondissement  \n",
       "4     Paris 10e Arrondissement  \n",
       "...                        ...  \n",
       "1427                  Nanterre  \n",
       "1428                  Nanterre  \n",
       "1429                  Nanterre  \n",
       "1430                  Nanterre  \n",
       "1431                  Nanterre  \n",
       "\n",
       "[1432 rows x 5 columns]"
      ]
     },
     "execution_count": 195,
     "metadata": {},
     "output_type": "execute_result"
    }
   ],
   "source": [
    "data"
   ]
  },
  {
   "cell_type": "code",
   "execution_count": 215,
   "id": "3d2238df",
   "metadata": {},
   "outputs": [
    {
     "name": "stdout",
     "output_type": "stream",
     "text": [
      "Reject H0: There is a significant relationship between the capacity and unavailable duration.\n",
      "Reject H0: There is a significant relationship between the availability_bike and unavailable duration.\n",
      "Reject H0: There is a significant relationship between the unavailable_count and unavailable duration.\n"
     ]
    }
   ],
   "source": [
    "#H0: There is no significant relationship between the given factors and the availability of Velib bikes at rental stations in Paris.\n",
    "\n",
    "\n",
    "\n",
    "data_num = data.drop('communes',axis=1)\n",
    "corr_matrix = data_num.corr()\n",
    "unavailability_correlations = corr_matrix['unavailable_duration']\n",
    "alpha = 0.05\n",
    "\n",
    "for feature, correlation in unavailability_correlations.items():\n",
    "    if feature != 'unavailable_duration':\n",
    "        if abs(correlation) < alpha:\n",
    "            print(f\"Fail to reject H0: There is no significant relationship between the {feature} and unavailable duration.\")\n",
    "        else:\n",
    "            print(f\"Reject H0: There is a significant relationship between the {feature} and unavailable duration.\")\n"
   ]
  },
  {
   "cell_type": "code",
   "execution_count": 216,
   "id": "f8148655",
   "metadata": {},
   "outputs": [
    {
     "name": "stdout",
     "output_type": "stream",
     "text": [
      "Reject H0. There is a significant relationship between communes and unavailable duration.\n"
     ]
    }
   ],
   "source": [
    "from scipy.stats import f_oneway\n",
    "\n",
    "commune_groups = [data[data['communes'] == commune]['unavailable_duration'] for commune in set(data['communes'])]\n",
    "statistic, p_value = f_oneway(*commune_groups)\n",
    "alpha = 0.05\n",
    "\n",
    "if p_value < alpha:\n",
    "    print(\"Reject H0. There is a significant relationship between communes and unavailable duration.\")\n",
    "else:\n",
    "    print(\"Fail to reject H0. There is no significant relationship between communes and unavailable duration.\")\n"
   ]
  },
  {
   "cell_type": "markdown",
   "id": "cef9943e",
   "metadata": {},
   "source": [
    "## Check for imbalance"
   ]
  },
  {
   "cell_type": "code",
   "execution_count": 193,
   "id": "bda98181",
   "metadata": {},
   "outputs": [
    {
     "data": {
      "text/html": [
       "<div>\n",
       "<style scoped>\n",
       "    .dataframe tbody tr th:only-of-type {\n",
       "        vertical-align: middle;\n",
       "    }\n",
       "\n",
       "    .dataframe tbody tr th {\n",
       "        vertical-align: top;\n",
       "    }\n",
       "\n",
       "    .dataframe thead th {\n",
       "        text-align: right;\n",
       "    }\n",
       "</style>\n",
       "<table border=\"1\" class=\"dataframe\">\n",
       "  <thead>\n",
       "    <tr style=\"text-align: right;\">\n",
       "      <th></th>\n",
       "      <th>Combined R-squared</th>\n",
       "      <th>Combined Adjusted R-squared</th>\n",
       "      <th>Combined MAE</th>\n",
       "      <th>Combined MSE</th>\n",
       "      <th>Combined RMSE</th>\n",
       "    </tr>\n",
       "  </thead>\n",
       "  <tbody>\n",
       "    <tr>\n",
       "      <th>LinearRegression</th>\n",
       "      <td>0.635001</td>\n",
       "      <td>0.612814</td>\n",
       "      <td>51.441748</td>\n",
       "      <td>15302.278380</td>\n",
       "      <td>123.702378</td>\n",
       "    </tr>\n",
       "    <tr>\n",
       "      <th>RandomForestRegressor</th>\n",
       "      <td>0.932996</td>\n",
       "      <td>0.928923</td>\n",
       "      <td>16.956802</td>\n",
       "      <td>2809.097021</td>\n",
       "      <td>53.000915</td>\n",
       "    </tr>\n",
       "    <tr>\n",
       "      <th>GradientBoostingRegressor</th>\n",
       "      <td>0.824338</td>\n",
       "      <td>0.813660</td>\n",
       "      <td>33.249605</td>\n",
       "      <td>7364.484483</td>\n",
       "      <td>85.816575</td>\n",
       "    </tr>\n",
       "  </tbody>\n",
       "</table>\n",
       "</div>"
      ],
      "text/plain": [
       "                           Combined R-squared  Combined Adjusted R-squared  \\\n",
       "LinearRegression                     0.635001                     0.612814   \n",
       "RandomForestRegressor                0.932996                     0.928923   \n",
       "GradientBoostingRegressor            0.824338                     0.813660   \n",
       "\n",
       "                           Combined MAE  Combined MSE  Combined RMSE  \n",
       "LinearRegression              51.441748  15302.278380     123.702378  \n",
       "RandomForestRegressor         16.956802   2809.097021      53.000915  \n",
       "GradientBoostingRegressor     33.249605   7364.484483      85.816575  "
      ]
     },
     "execution_count": 193,
     "metadata": {},
     "output_type": "execute_result"
    }
   ],
   "source": [
    "def train_and_test_combined(models, X_train, y_train, X_test, y_test):\n",
    "    results = {}\n",
    "    \n",
    "    # Combine the training and testing data\n",
    "    X_combined = np.vstack((X_train, X_test))\n",
    "    y_combined = np.concatenate((y_train, y_test))\n",
    "    \n",
    "    for model in models:\n",
    "        model.fit(X_combined, y_combined)\n",
    "        predictions_combined = model.predict(X_combined)\n",
    "\n",
    "        mae_combined = mean_absolute_error(y_combined, predictions_combined)\n",
    "        mse_combined = mean_squared_error(y_combined, predictions_combined)\n",
    "        rmse_combined = np.sqrt(mse_combined)\n",
    "        r2_combined = r2_score(y_combined, predictions_combined)\n",
    "        n_combined, p_combined = X_combined.shape\n",
    "        adj_r2_combined = 1 - (1 - r2_combined) * (n_combined - 1) / (n_combined - p_combined - 1)\n",
    "        \n",
    "        results[type(model).__name__] = {\n",
    "            'Combined R-squared': r2_combined,\n",
    "            'Combined Adjusted R-squared': adj_r2_combined,\n",
    "            'Combined MAE': mae_combined,\n",
    "            'Combined MSE': mse_combined,\n",
    "            'Combined RMSE': rmse_combined,\n",
    "        }\n",
    "    \n",
    "    return results\n",
    "fitted_models = [LinearRegression(), RandomForestRegressor(),GradientBoostingRegressor()]\n",
    "fitted_results = train_and_test_combined(fitted_models, X_train, y_train, X_test, y_test)\n",
    "metrics_df = pd.DataFrame.from_dict(fitted_results, orient='index')\n",
    "metrics_df"
   ]
  },
  {
   "cell_type": "code",
   "execution_count": 194,
   "id": "f2a3453e",
   "metadata": {},
   "outputs": [
    {
     "name": "stdout",
     "output_type": "stream",
     "text": [
      "Undersampling may be present in the dataset.\n"
     ]
    }
   ],
   "source": [
    "metrics_df = pd.DataFrame.from_dict(fitted_results, orient='index')\n",
    "mean_squared_error_values = metrics_df['Combined MSE'].values\n",
    "\n",
    "max_mse = max(mean_squared_error_values)\n",
    "min_mse = min(mean_squared_error_values)\n",
    "\n",
    "if max_mse / min_mse > 1.5:\n",
    "    print(\"Undersampling may be present in the dataset.\")\n",
    "else:\n",
    "    print(\"Undersampling is not present in the dataset.\")\n"
   ]
  },
  {
   "cell_type": "code",
   "execution_count": 172,
   "id": "34aa36eb",
   "metadata": {},
   "outputs": [
    {
     "name": "stdout",
     "output_type": "stream",
     "text": [
      "<class 'pandas.core.frame.DataFrame'>\n",
      "RangeIndex: 1432 entries, 0 to 1431\n",
      "Data columns (total 5 columns):\n",
      " #   Column                Non-Null Count  Dtype  \n",
      "---  ------                --------------  -----  \n",
      " 0   capacity              1432 non-null   int64  \n",
      " 1   availability_bike     1432 non-null   float64\n",
      " 2   unavailable_duration  1432 non-null   float64\n",
      " 3   unavailable_count     1432 non-null   int64  \n",
      " 4   communes              1432 non-null   object \n",
      "dtypes: float64(2), int64(2), object(1)\n",
      "memory usage: 56.1+ KB\n"
     ]
    }
   ],
   "source": [
    "data.info()"
   ]
  },
  {
   "cell_type": "code",
   "execution_count": 31,
   "id": "972ef196",
   "metadata": {},
   "outputs": [],
   "source": [
    "#data[data['capacity']==data['capacity'].max()]"
   ]
  },
  {
   "cell_type": "code",
   "execution_count": 32,
   "id": "6da934a3",
   "metadata": {},
   "outputs": [],
   "source": [
    "#data[data['availability_bike']==data['availability_bike'].max()]"
   ]
  },
  {
   "cell_type": "code",
   "execution_count": 33,
   "id": "47c7abe1",
   "metadata": {},
   "outputs": [],
   "source": [
    "#dfff = pd.read_csv('velibs_export_2024-02-13_10:44.csv')\n"
   ]
  },
  {
   "cell_type": "code",
   "execution_count": 34,
   "id": "8f91b4b1",
   "metadata": {},
   "outputs": [],
   "source": [
    "#dfff[dfff['identifiant_station']=='12127']"
   ]
  },
  {
   "cell_type": "code",
   "execution_count": 35,
   "id": "d19298f1",
   "metadata": {},
   "outputs": [],
   "source": [
    "#overcapacity_stations = dfff[dfff['nombre_total_vélos_disponibles']>dfff['capacité_de_la_station']]['nom_station'].unique()\n",
    "#display(len(overcapacity_stations))\n",
    "#list(overcapacity_stations)"
   ]
  },
  {
   "cell_type": "code",
   "execution_count": 36,
   "id": "a2e2a7e8",
   "metadata": {},
   "outputs": [],
   "source": [
    "#normal due to overcapacitated stations \n",
    "#source : https://parissecret.com/un-nouveau-type-de-station-velib-vous-permet-de-deposer-votre-velo-meme-sans-place-disponible/\n",
    "#https://blog.velib-metropole.fr/test-station-plus/\n",
    "#Lavandieres Sainte Opportune - Rivoli (Station n°1120)\n",
    "#Abbé Groult - Convention (Station n°15039)\n",
    "\n",
    "\n",
    "#Aristide Briand – Place de la Résistance (92130 Issy-Les-Moulineaux)\n",
    "#Malesherbes – Place de la Madeleine (75008 Paris)\n",
    "#Madeleine Vionnet (93300 Aubervilliers)\n",
    "#Caumartin – Provence (75009 Paris)\n",
    "#Bibliothèque Nationale de France (75013 Paris)\n",
    "#Place du Moulin de Javel (75015 Paris)\n",
    "#Place Balard (75015 Paris)\n",
    "#Westermeyer – Paul Vaillant-Couturier (94200 Ivry-sur-Seine)\n",
    "\n",
    "#Tremblay - Lac des Minimes - Station n°12127\n",
    "#Saint-Denis - Rivoli - Station n°1003\n",
    "\n",
    "#Sebastopol – Rambuteau (75004 Paris)\n",
    "#Saint-Antoine – Sévigné (75004 Paris)\n",
    "#Place Charles Vallin (75015 Paris)\n",
    "#Carrefour Pleyel (93200 Saint-Denis)\n",
    "#Bercy – Villot (75012 Paris)\n",
    "\n",
    "#Quai des Célestins – Henri IV (75004 Paris)\n",
    "#Gare Saint-Lazare – Cour du Havre (75008 Paris)\n",
    "#Place de l’Hôtel de Ville (75004 Paris)\n",
    "#Daumesnil – Picpus (75012 Paris)\n",
    "#Clichy – Place Blanche (75018 Paris)\n",
    "#Cité de la Musique (75019 Paris)\n",
    "#Enfants du Paradis – Peupliers (92100 Boulogne Billancourt)\n",
    "\n",
    "#Général de Gaulle • Alouette (94160 Saint Mandé – fonctionnalité prochainement disponible)\n"
   ]
  },
  {
   "cell_type": "code",
   "execution_count": 37,
   "id": "cd2e2446",
   "metadata": {},
   "outputs": [],
   "source": [
    "#dfff[(dfff['identifiant_station'].isin(['1120', '15039']))&(dfff['nombre_total_vélos_disponibles']>dfff['capacité_de_la_station'])]"
   ]
  },
  {
   "cell_type": "code",
   "execution_count": 60,
   "id": "4b26b324",
   "metadata": {},
   "outputs": [],
   "source": [
    "#dfff[dfff['identifiant_station'].isin(['1120', '15039'])].groupby(['identifiant_station','capacité_de_la_station'])['nombre_total_vélos_disponibles'].agg(np.mean)"
   ]
  },
  {
   "cell_type": "code",
   "execution_count": 61,
   "id": "6749263b",
   "metadata": {},
   "outputs": [],
   "source": [
    "#data[data['availability_bike']>data['capacity']]"
   ]
  }
 ],
 "metadata": {
  "kernelspec": {
   "display_name": "Python 3 (ipykernel)",
   "language": "python",
   "name": "python3"
  },
  "language_info": {
   "codemirror_mode": {
    "name": "ipython",
    "version": 3
   },
   "file_extension": ".py",
   "mimetype": "text/x-python",
   "name": "python",
   "nbconvert_exporter": "python",
   "pygments_lexer": "ipython3",
   "version": "3.11.5"
  }
 },
 "nbformat": 4,
 "nbformat_minor": 5
}
